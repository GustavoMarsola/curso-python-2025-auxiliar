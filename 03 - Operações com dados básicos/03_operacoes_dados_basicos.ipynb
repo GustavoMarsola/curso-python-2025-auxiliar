{
 "cells": [
  {
   "cell_type": "markdown",
   "metadata": {},
   "source": [
    "# Strings (str) - representam cadeias de caracteres <br>\n",
    "A melhor maneira de representar o nome de alguém na linguagem python é através das strings."
   ]
  },
  {
   "cell_type": "code",
   "execution_count": null,
   "metadata": {},
   "outputs": [],
   "source": [
    "nome = \"Gustavo Marsola Borges da Silveira\"\n",
    "\n",
    "print(nome, type(nome))"
   ]
  },
  {
   "cell_type": "markdown",
   "metadata": {},
   "source": [
    "## Operações com strings <br>\n"
   ]
  },
  {
   "cell_type": "markdown",
   "metadata": {},
   "source": [
    "### 1. Concatenação e Repetição <br>"
   ]
  },
  {
   "cell_type": "code",
   "execution_count": null,
   "metadata": {},
   "outputs": [],
   "source": [
    "# Concatenação\n",
    "# A concatenação é uma operação que combina duas strings em uma única string.\n",
    "\n",
    "nome = \"Gustavo\"\n",
    "sobrenome = \"Marsola Borges da Silveira\"\n",
    "\n",
    "nome_completo = nome + \" \" + sobrenome\n",
    "\n",
    "print(nome_completo)"
   ]
  },
  {
   "cell_type": "code",
   "execution_count": null,
   "metadata": {},
   "outputs": [],
   "source": [
    "# Repetição\n",
    "# Utiliza-se o operador * para repetir a string\n",
    "\n",
    "print(f\"{nome_completo}\\n\"*3)"
   ]
  },
  {
   "cell_type": "markdown",
   "metadata": {},
   "source": [
    "### 2. Indexação e Fatiamento"
   ]
  },
  {
   "cell_type": "code",
   "execution_count": null,
   "metadata": {},
   "outputs": [],
   "source": [
    "# Indexação\n",
    "# Cada caracter na string possui um índice, começando em 0, e terminando em -1 (que é o último caracter da string)\n",
    "\n",
    "primeira_letra = nome_completo[0]\n",
    "print(primeira_letra)\n",
    "\n",
    "ultima_letra = nome_completo[-1]\n",
    "print(ultima_letra)\n"
   ]
  },
  {
   "cell_type": "code",
   "execution_count": null,
   "metadata": {},
   "outputs": [],
   "source": [
    "# Fatiamento \n",
    "# O fatiamento é uma operação que permite dividir uma várias substrings\n",
    "\n",
    "_nome = nome_completo[:7]\n",
    "print(_nome)\n",
    "\n",
    "primeiro_sobrenome = nome_completo[8:15]\n",
    "print(primeiro_sobrenome)\n"
   ]
  },
  {
   "cell_type": "markdown",
   "metadata": {},
   "source": [
    "### 3. Métodos de Transformação"
   ]
  },
  {
   "cell_type": "code",
   "execution_count": null,
   "metadata": {},
   "outputs": [],
   "source": [
    "# Maiúsculas e Minúsculas\n",
    "\n",
    "print(nome_completo.upper())\n",
    "print(nome_completo.lower())\n",
    "print(nome_completo.capitalize())\n",
    "print(nome_completo.title())\n",
    "print(nome_completo.swapcase())"
   ]
  },
  {
   "cell_type": "markdown",
   "metadata": {},
   "source": [
    "### 4. Substituição"
   ]
  },
  {
   "cell_type": "code",
   "execution_count": null,
   "metadata": {},
   "outputs": [],
   "source": [
    "\n",
    "print(nome_completo.replace(\"Marsola\", \"Santos\"))\n"
   ]
  },
  {
   "cell_type": "markdown",
   "metadata": {},
   "source": [
    "### 5. Verificações"
   ]
  },
  {
   "cell_type": "code",
   "execution_count": null,
   "metadata": {},
   "outputs": [],
   "source": [
    "# É possível verificar se há um substring em uma string\n",
    "\n",
    "print(\"Gustavo\" in nome_completo)\n",
    "print(\"Marsola\" in nome_completo)\n",
    "print(\"Oliveira\" in nome_completo)\n",
    "\n",
    "# Obs: O operador in é case sensitive"
   ]
  },
  {
   "cell_type": "markdown",
   "metadata": {},
   "source": [
    "### 6. Divisão, junção, e manipulação de espaços"
   ]
  },
  {
   "cell_type": "code",
   "execution_count": null,
   "metadata": {},
   "outputs": [],
   "source": [
    "# O método split() divide a string em substrings, utilizando um separador que podemos definir\n",
    "# Se não for definido um separador, o método irá dividir a string em palavras\n",
    "nome_completo = \"Gustavo Marsola Borges da Silveira\"\n",
    "print(nome_completo.split(\" \"))\n",
    "print(nome_completo.split(\"Marsola\"))\n",
    "\n",
    "# O método join() junta substrings em uma string, utilizando um separador\n",
    "# O método join() é chamado a partir do separador\n",
    "nome_completo = [\"Gustavo\", \"Marsola\", \"Borges\", \"da\", \"Silveira\"]\n",
    "print(\" \".join(nome_completo))\n",
    "print(\", \".join(nome_completo))\n",
    "\n",
    "# O método strip() remove espaços em branco de uma string\n",
    "# O método lstrip() remove espaços em branco do lado esquerdo da string\n",
    "# O método rstrip() remove espaços em branco do lado direito da string\n",
    "nome_completo = \"   Gustavo Marsola Borges da Silveira   \"\n",
    "print(nome_completo.strip())\n",
    "print(nome_completo.lstrip())\n",
    "print(nome_completo.rstrip())\n"
   ]
  },
  {
   "cell_type": "markdown",
   "metadata": {},
   "source": [
    "# Inteiros (int) e flutuantes (float) - representam números <br>\n",
    "A melhor maneira de representar a idade e o peso de alguém na linguagem python é através de inteiros e flutuantes."
   ]
  },
  {
   "cell_type": "code",
   "execution_count": null,
   "metadata": {},
   "outputs": [],
   "source": [
    "idade = 27\n",
    "peso  = 92.5   # Obs: não há separador de milhar, e o separador de decimal é o ponto !\n",
    "\n",
    "print(idade, type(idade))\n",
    "print(peso,  type(peso))"
   ]
  },
  {
   "cell_type": "markdown",
   "metadata": {},
   "source": [
    "### Operações com números <br>\n",
    "São operações comuns a inteiros (int) e flutuantes (float)"
   ]
  },
  {
   "cell_type": "markdown",
   "metadata": {},
   "source": [
    "### 1. Operações Aritméticas Básicas"
   ]
  },
  {
   "cell_type": "code",
   "execution_count": null,
   "metadata": {},
   "outputs": [],
   "source": [
    "# Adição\n",
    "\n",
    "soma = 2 + 3\n",
    "print(soma)"
   ]
  },
  {
   "cell_type": "code",
   "execution_count": null,
   "metadata": {},
   "outputs": [],
   "source": [
    "# Subtração\n",
    "\n",
    "subtracao = 5 - 3\n",
    "print(subtracao)"
   ]
  },
  {
   "cell_type": "code",
   "execution_count": null,
   "metadata": {},
   "outputs": [],
   "source": [
    "# Multiplicação\n",
    "\n",
    "multiplicacao = 2 * 3\n",
    "print(multiplicacao)"
   ]
  },
  {
   "cell_type": "code",
   "execution_count": null,
   "metadata": {},
   "outputs": [],
   "source": [
    "# Divisão\n",
    "\n",
    "divisao = 10 / 3\n",
    "print(divisao)"
   ]
  },
  {
   "cell_type": "code",
   "execution_count": null,
   "metadata": {},
   "outputs": [],
   "source": [
    "# Divisão inteira\n",
    "\n",
    "divisao_inteira = 10 // 3\n",
    "print(divisao_inteira)"
   ]
  },
  {
   "cell_type": "code",
   "execution_count": null,
   "metadata": {},
   "outputs": [],
   "source": [
    "# Resto da divisão\n",
    "\n",
    "resto_divisao = 10 % 3\n",
    "print(resto_divisao)"
   ]
  },
  {
   "cell_type": "code",
   "execution_count": null,
   "metadata": {},
   "outputs": [],
   "source": [
    "# Exponenciação\n",
    "\n",
    "exponente = 2 ** 3\n",
    "print(exponente)"
   ]
  },
  {
   "cell_type": "markdown",
   "metadata": {},
   "source": [
    "### 2. Operações Relacionais <br>\n",
    "Obs: Depois de ver booleanos\n"
   ]
  },
  {
   "cell_type": "code",
   "execution_count": null,
   "metadata": {},
   "outputs": [],
   "source": [
    "# Maior que\n",
    "maior_que = 5 > 3\n",
    "\n",
    "# Menor que\n",
    "menor_que = 5 < 3\n",
    "\n",
    "# Maior ou igual\n",
    "maior_ou_igual = 5 >= 3\n",
    "\n",
    "# Menor ou igual\n",
    "menor_ou_igual = 5 <= 3\n",
    "\n",
    "# Igual\n",
    "igual = 5 == 3\n",
    "\n",
    "# Diferente\n",
    "diferente = 5 != 3"
   ]
  },
  {
   "cell_type": "markdown",
   "metadata": {},
   "source": [
    "### 3. Funções Matemáticas Comuns"
   ]
  },
  {
   "cell_type": "code",
   "execution_count": null,
   "metadata": {},
   "outputs": [],
   "source": [
    "# Valor absoluto\n",
    "\n",
    "valor_abs = abs(-10)\n",
    "print(valor_abs)"
   ]
  },
  {
   "cell_type": "code",
   "execution_count": null,
   "metadata": {},
   "outputs": [],
   "source": [
    "# Arredondamento\n",
    "\n",
    "arredondamento = round(divisao, 3)\n",
    "print(arredondamento)"
   ]
  },
  {
   "cell_type": "code",
   "execution_count": null,
   "metadata": {},
   "outputs": [],
   "source": [
    "# Potência\n",
    "\n",
    "potencia = pow(2, 5)\n",
    "print(potencia)"
   ]
  },
  {
   "cell_type": "code",
   "execution_count": null,
   "metadata": {},
   "outputs": [],
   "source": [
    "# Máximo e Mínimo\n",
    "\n",
    "maximo = max(2, 5, 10, 3, 70)\n",
    "print(maximo)\n",
    "\n",
    "minimo = min(2, 0.5, 10, 3, 7)\n",
    "print(minimo)"
   ]
  },
  {
   "cell_type": "markdown",
   "metadata": {},
   "source": [
    "Módulo math\n"
   ]
  },
  {
   "cell_type": "code",
   "execution_count": null,
   "metadata": {},
   "outputs": [],
   "source": [
    "import math"
   ]
  },
  {
   "cell_type": "code",
   "execution_count": null,
   "metadata": {},
   "outputs": [],
   "source": [
    "# Raiz Quadrada\n",
    "\n",
    "raiz_quadrada = math.sqrt(9)\n",
    "print(raiz_quadrada)"
   ]
  },
  {
   "cell_type": "code",
   "execution_count": null,
   "metadata": {},
   "outputs": [],
   "source": [
    "# Seno, Cosseno e Tangente\n",
    "\n",
    "seno = math.sin(math.radians(30))\n",
    "print(seno)\n",
    "\n",
    "cosseno = math.cos(math.radians(60))\n",
    "print(cosseno)\n",
    "\n",
    "tangente = math.tan(math.radians(45))\n",
    "print(tangente)"
   ]
  },
  {
   "cell_type": "code",
   "execution_count": 40,
   "metadata": {},
   "outputs": [
    {
     "name": "stdout",
     "output_type": "stream",
     "text": [
      "4.605170185988092\n",
      "6.643856189774724\n",
      "2.0\n"
     ]
    }
   ],
   "source": [
    "# Logaritmos\n",
    "\n",
    "logaritmo_natural = math.log(100) # Se não especificarmos qual a base, o logaritmo natural é calculado\n",
    "print(logaritmo_natural)\n",
    "\n",
    "logaritmo_base2 = math.log2(100)\n",
    "print(logaritmo_base2)\n",
    "\n",
    "logaritmo_base10 = math.log10(100)\n",
    "print(logaritmo_base10)\n"
   ]
  },
  {
   "cell_type": "markdown",
   "metadata": {},
   "source": [
    "### 4. Conversão Entre Tipos de Dados"
   ]
  },
  {
   "cell_type": "code",
   "execution_count": 42,
   "metadata": {},
   "outputs": [
    {
     "name": "stdout",
     "output_type": "stream",
     "text": [
      "10.0 <class 'float'>\n",
      "10 <class 'int'>\n"
     ]
    }
   ],
   "source": [
    "# float <> int\n",
    "\n",
    "int_to_float = float(10)\n",
    "print(int_to_float, type(int_to_float))\n",
    "\n",
    "float_to_int = int(10.5)\n",
    "print(float_to_int, type(float_to_int))\n"
   ]
  },
  {
   "cell_type": "code",
   "execution_count": 44,
   "metadata": {},
   "outputs": [
    {
     "name": "stdout",
     "output_type": "stream",
     "text": [
      "10.5 <class 'float'>\n",
      "10.5 <class 'str'>\n"
     ]
    }
   ],
   "source": [
    "# str <> float/int\n",
    "\n",
    "str_to_float = float(\"10.5\")\n",
    "print(str_to_float, type(str_to_float))\n",
    "\n",
    "float_to_str = str(10.5)\n",
    "print(float_to_str, type(float_to_str))"
   ]
  },
  {
   "cell_type": "markdown",
   "metadata": {},
   "source": [
    "# Booleanos (bool) - representam afirmações lógicas <br>\n",
    "Os serem humanos não costumam dizer afirmações lógicas, mas para a linguagem python é muito prático."
   ]
  },
  {
   "cell_type": "code",
   "execution_count": 45,
   "metadata": {},
   "outputs": [
    {
     "name": "stdout",
     "output_type": "stream",
     "text": [
      "True <class 'bool'>\n",
      "False <class 'bool'>\n"
     ]
    }
   ],
   "source": [
    "casado = True\n",
    "ateu   = False\n",
    "\n",
    "print(casado, type(casado))\n",
    "print(ateu,  type(ateu))"
   ]
  },
  {
   "cell_type": "markdown",
   "metadata": {},
   "source": [
    "### Operações com booleanos"
   ]
  },
  {
   "cell_type": "markdown",
   "metadata": {},
   "source": [
    "### 1. Operadores Lógicos"
   ]
  },
  {
   "cell_type": "code",
   "execution_count": 46,
   "metadata": {},
   "outputs": [
    {
     "name": "stdout",
     "output_type": "stream",
     "text": [
      "False\n"
     ]
    }
   ],
   "source": [
    "# AND\n",
    "\n",
    "operacao_and = casado and ateu\n",
    "print(operacao_and)"
   ]
  },
  {
   "cell_type": "code",
   "execution_count": null,
   "metadata": {},
   "outputs": [],
   "source": [
    "# OR\n",
    "\n",
    "operacao_or = casado or ateu\n",
    "print(operacao_or)"
   ]
  },
  {
   "cell_type": "code",
   "execution_count": 47,
   "metadata": {},
   "outputs": [
    {
     "name": "stdout",
     "output_type": "stream",
     "text": [
      "True\n"
     ]
    }
   ],
   "source": [
    "# NOT\n",
    "\n",
    "operacao_not = not ateu\n",
    "print(operacao_not)"
   ]
  },
  {
   "cell_type": "markdown",
   "metadata": {},
   "source": [
    "# Nulo (None) - trata-se da ausência de valor significativo\n",
    "Quando um atributo não é intrínseco à algo ou alguém, podemos dizer que tal atributo é nulo."
   ]
  },
  {
   "cell_type": "code",
   "execution_count": 48,
   "metadata": {},
   "outputs": [
    {
     "name": "stdout",
     "output_type": "stream",
     "text": [
      "None <class 'NoneType'>\n",
      "None <class 'NoneType'>\n"
     ]
    }
   ],
   "source": [
    "calvicie = None\n",
    "diabetes = None\n",
    "\n",
    "print(calvicie, type(calvicie))\n",
    "print(diabetes,  type(diabetes))\n",
    "\n",
    "# Obs: não confundir nulo com valor 0\n",
    "# O valor 0 é usado em casos onde há potencial de haver mais valores quantitativos"
   ]
  },
  {
   "cell_type": "markdown",
   "metadata": {},
   "source": [
    "### Atribuição e comparação"
   ]
  },
  {
   "cell_type": "code",
   "execution_count": 50,
   "metadata": {},
   "outputs": [
    {
     "name": "stdout",
     "output_type": "stream",
     "text": [
      "True\n",
      "True\n"
     ]
    }
   ],
   "source": [
    "x = None\n",
    "print(x is None)  # True\n",
    "print(x == None)  # True (mas 'is' é a recomendação para comparar com None)"
   ]
  },
  {
   "cell_type": "markdown",
   "metadata": {},
   "source": [
    "### Uso em expressões booleanas"
   ]
  },
  {
   "cell_type": "code",
   "execution_count": 51,
   "metadata": {},
   "outputs": [
    {
     "name": "stdout",
     "output_type": "stream",
     "text": [
      "False\n",
      "Outro valor\n",
      "None\n"
     ]
    }
   ],
   "source": [
    "print(bool(None))  # False\n",
    "print(None or \"Outro valor\")  # \"Outro valor\"\n",
    "print(None and \"Outro valor\")  # None\n"
   ]
  }
 ],
 "metadata": {
  "kernelspec": {
   "display_name": "Python 3",
   "language": "python",
   "name": "python3"
  },
  "language_info": {
   "codemirror_mode": {
    "name": "ipython",
    "version": 3
   },
   "file_extension": ".py",
   "mimetype": "text/x-python",
   "name": "python",
   "nbconvert_exporter": "python",
   "pygments_lexer": "ipython3",
   "version": "3.12.0"
  }
 },
 "nbformat": 4,
 "nbformat_minor": 2
}
