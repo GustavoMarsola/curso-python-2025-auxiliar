{
 "cells": [
  {
   "cell_type": "markdown",
   "metadata": {},
   "source": [
    "# Exercícios de fixação"
   ]
  },
  {
   "cell_type": "markdown",
   "metadata": {},
   "source": [
    "### 1. Calcule a média aritmética de um aluno"
   ]
  },
  {
   "cell_type": "code",
   "execution_count": 1,
   "metadata": {},
   "outputs": [
    {
     "name": "stdout",
     "output_type": "stream",
     "text": [
      "A média é: 7.15\n"
     ]
    }
   ],
   "source": [
    "n1 = 7.5\n",
    "n2 = 5.2\n",
    "n3 = 8.75\n",
    "\n",
    "media = (n1 + n2 + n3) / 3\n",
    "\n",
    "print(f'A média é: {media:.2f}')"
   ]
  },
  {
   "cell_type": "markdown",
   "metadata": {},
   "source": [
    "### 2. A partir da sua idade, quantos dias aproximadamente você viveu?"
   ]
  },
  {
   "cell_type": "markdown",
   "metadata": {},
   "source": [
    "##### Obs: considere apenas a idade completa, também não precisa levar em consideração os anos bissextos"
   ]
  },
  {
   "cell_type": "code",
   "execution_count": 3,
   "metadata": {},
   "outputs": [
    {
     "name": "stdout",
     "output_type": "stream",
     "text": [
      "Eu já vivi aproximadamente 9490 dias\n"
     ]
    }
   ],
   "source": [
    "idade_atual = 26\n",
    "dias_do_ano = 365\n",
    "dias_vividos = idade_atual * dias_do_ano\n",
    "\n",
    "print(f'Eu já vivi aproximadamente {dias_vividos} dias')"
   ]
  },
  {
   "cell_type": "markdown",
   "metadata": {},
   "source": [
    "### 3. Divisão de conta em um restaurante"
   ]
  },
  {
   "cell_type": "code",
   "execution_count": 11,
   "metadata": {},
   "outputs": [
    {
     "name": "stdout",
     "output_type": "stream",
     "text": [
      "Cada amigo deve pagar R$ 109,66\n"
     ]
    }
   ],
   "source": [
    "total_conta = 438.65\n",
    "quantidade_amigos = 4\n",
    "total_por_amigos = total_conta / quantidade_amigos\n",
    "\n",
    "total_por_amigos = round(total_por_amigos, 2)\n",
    "_total_por_amigos = str(total_por_amigos).replace(\".\", \",\")\n",
    "\n",
    "print(f'Cada amigo deve pagar R$ {_total_por_amigos}')"
   ]
  },
  {
   "cell_type": "markdown",
   "metadata": {},
   "source": [
    "### 4. A partir de seu salário atual, exiba o salário reajustado caso você ganhe uma promoção de 30%"
   ]
  },
  {
   "cell_type": "code",
   "execution_count": 14,
   "metadata": {},
   "outputs": [
    {
     "name": "stdout",
     "output_type": "stream",
     "text": [
      "O novo salário é de R$ 1950.00\n"
     ]
    }
   ],
   "source": [
    "salario_atual = 1500 # Mínimo atual\n",
    "salario_novo  = salario_atual * 1.30\n",
    "\n",
    "print(f'O novo salário é de R$ {salario_novo:.2f}')"
   ]
  },
  {
   "cell_type": "markdown",
   "metadata": {},
   "source": [
    "### 5. Abastecimento do carro"
   ]
  },
  {
   "cell_type": "code",
   "execution_count": null,
   "metadata": {},
   "outputs": [],
   "source": [
    "preco_do_combustivel = 4.39\n",
    "litros = 43\n",
    "total = preco_do_combustivel * litros\n",
    "\n",
    "print(f'Para encher o tanque, você precisa de R$ {total:.2f}')"
   ]
  },
  {
   "cell_type": "markdown",
   "metadata": {},
   "source": [
    "# Desafios"
   ]
  },
  {
   "cell_type": "markdown",
   "metadata": {},
   "source": [
    "### 1. Desconto em compras"
   ]
  },
  {
   "cell_type": "markdown",
   "metadata": {},
   "source": [
    "##### Você foi ao supermercado e comprou 2 pacotes de pão integral, com desconto de 15% cada.\n",
    "##### Você também comprou 1 refil de amaciante, com desconto de 10%.\n",
    "##### E por último, 4 caixinhas de creme de leite, com desconto de 5% cada."
   ]
  },
  {
   "cell_type": "code",
   "execution_count": null,
   "metadata": {},
   "outputs": [
    {
     "name": "stdout",
     "output_type": "stream",
     "text": [
      "O total da compra seria de R$ 39.15, mas com desconto você pagou R$ 27.41\n"
     ]
    }
   ],
   "source": [
    "preco_pao = 7\n",
    "desconto_pao = 0.15\n",
    "quantidade_pao = 2\n",
    "\n",
    "preco_amaciante = 13.99\n",
    "desconto_amaciante = 0.10\n",
    "quantidade_amaciante = 1\n",
    "\n",
    "preco_creme_de_leite = 2.79\n",
    "desconto_creme_de_leite = 0.05\n",
    "quantidade_creme_de_leite = 4\n",
    "\n",
    "total = (preco_pao * quantidade_pao) + (preco_amaciante * quantidade_amaciante) + (preco_creme_de_leite * quantidade_creme_de_leite)\n",
    "total_desconto = total - (total * (desconto_pao + desconto_amaciante + desconto_creme_de_leite))\n",
    "\n",
    "print(f'O total da compra seria de R$ {total:.2f}, mas com desconto você pagou R$ {total_desconto:.2f}')\n"
   ]
  },
  {
   "cell_type": "markdown",
   "metadata": {},
   "source": [
    "### 2. Academia"
   ]
  },
  {
   "cell_type": "markdown",
   "metadata": {},
   "source": [
    "##### Atualmente você investe mensalmente R$ 159,99 para treinar musculação em uma academia de rede\n",
    "##### A academia do seu bairro cobra uma mensalidade de R$ 109,90 \n",
    "##### Quanto você economizaria anualmente se fizesse esta troca?"
   ]
  },
  {
   "cell_type": "code",
   "execution_count": 21,
   "metadata": {},
   "outputs": [
    {
     "name": "stdout",
     "output_type": "stream",
     "text": [
      "Você economizaria R$ 50.09 por mês e R$ 601.08 por ano\n"
     ]
    }
   ],
   "source": [
    "mensalidade_academia_rede = 159.99\n",
    "mensalidade_academia_bairro = 109.90\n",
    "economia = mensalidade_academia_rede - mensalidade_academia_bairro\n",
    "economia_anual = economia * 12\n",
    "\n",
    "print(f'Você economizaria R$ {economia:.2f} por mês e R$ {economia_anual:.2f} por ano')\n"
   ]
  },
  {
   "cell_type": "markdown",
   "metadata": {},
   "source": [
    "### 3. Projeção de poupança"
   ]
  },
  {
   "cell_type": "markdown",
   "metadata": {},
   "source": [
    "##### Você quer comprar um imóvel no valor de R$ 350.000,00\n",
    "##### Mensalmente você pode gastar um valor X de dinheiro.\n",
    "##### Calcule em quanto tempo você conseguirá realizar seu objetivo, caso queira comprar à vista."
   ]
  },
  {
   "cell_type": "code",
   "execution_count": 28,
   "metadata": {},
   "outputs": [
    {
     "name": "stdout",
     "output_type": "stream",
     "text": [
      "Você levará 29 anos e 2 meses para juntar o valor do imóvel\n"
     ]
    }
   ],
   "source": [
    "valor_imovel = 350000\n",
    "x = input('Digite a ser guardado mensalmente (somente os numeros): ')\n",
    "\n",
    "valor_guardado = int(x)\n",
    "tempo = valor_imovel / valor_guardado\n",
    "anos = tempo // 12\n",
    "meses = tempo % 12\n",
    "\n",
    "print(f'Você levará {anos:.0f} anos e {meses:.0f} meses para juntar o valor do imóvel')\n"
   ]
  },
  {
   "cell_type": "markdown",
   "metadata": {},
   "source": [
    "### 4. Tempo de Deslocamento Diário"
   ]
  },
  {
   "cell_type": "markdown",
   "metadata": {},
   "source": [
    "##### Faça uma estimativa do tempo de deslocamento diário gasta para ir trabalhar presencialmente.\n",
    "##### No exemplo abaixo será considerado um trem, mas você pode adaptar para seu meio de transporte."
   ]
  },
  {
   "cell_type": "code",
   "execution_count": null,
   "metadata": {},
   "outputs": [
    {
     "name": "stdout",
     "output_type": "stream",
     "text": [
      "O tempo de viagem é de 63.33 minutos, portanto o tempo total de ida e volta é de 126.67 minutos\n"
     ]
    }
   ],
   "source": [
    "velocidade_trem = 36 # km/h, considerando as paradas\n",
    "distancia_casa_trabalho = 38 # km\n",
    "tempo = distancia_casa_trabalho / velocidade_trem # em horas\n",
    "tempo = tempo * 60 # em minutos\n",
    "ida_e_volta = tempo * 2\n",
    "\n",
    "print(f'O tempo de viagem é de {tempo:.2f} minutos, portanto o tempo total de ida e volta é de {ida_e_volta:.2f} minutos')"
   ]
  }
 ],
 "metadata": {
  "kernelspec": {
   "display_name": "Python 3",
   "language": "python",
   "name": "python3"
  },
  "language_info": {
   "codemirror_mode": {
    "name": "ipython",
    "version": 3
   },
   "file_extension": ".py",
   "mimetype": "text/x-python",
   "name": "python",
   "nbconvert_exporter": "python",
   "pygments_lexer": "ipython3",
   "version": "3.12.0"
  }
 },
 "nbformat": 4,
 "nbformat_minor": 2
}
