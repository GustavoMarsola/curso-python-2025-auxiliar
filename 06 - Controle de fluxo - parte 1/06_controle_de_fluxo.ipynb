{
 "cells": [
  {
   "cell_type": "markdown",
   "metadata": {},
   "source": [
    "# É possível controlar o fluxo do código python através de estruturas de tomada de decisão e loops"
   ]
  },
  {
   "cell_type": "markdown",
   "metadata": {},
   "source": [
    "### 1 - if/else é uma estrutura condicional usada para tomar decisões com base em condições. <br>\n",
    "\n",
    "Exemplo: No Brasil, os requisitos para dirigir um automóvel é ter mais de 18 anos de idade, e possuir carteira nacional de habilitação. Vamos simular estes requisitos!"
   ]
  },
  {
   "cell_type": "code",
   "execution_count": null,
   "metadata": {},
   "outputs": [],
   "source": [
    "idade   = 18\n",
    "tem_cnh = False\n",
    "\n",
    "if idade >= 18 and tem_cnh is True:\n",
    "\tprint(\"Pode dirigir!\")\n",
    "elif idade >= 18 and tem_cnh is False:\n",
    "\tprint(\"Possui idade para dirigir, mas ainda não tem cnh!\")\n",
    "elif idade < 18:\n",
    "    print(\"Não tem idade para dirigir!\")\n",
    "else:\n",
    "\tprint(\"Não pode dirigir!\")   \n"
   ]
  },
  {
   "cell_type": "markdown",
   "metadata": {},
   "source": [
    "### 2 - for é um tipo de loop em Python que é usado para iterar sobre uma sequência (como uma lista, tupla, string ou intervalo de números)."
   ]
  },
  {
   "cell_type": "code",
   "execution_count": null,
   "metadata": {},
   "outputs": [],
   "source": [
    "# Percorrendo itens de uma lista\n",
    "\n",
    "itens_mercado = [\"maçã\", \"banana\", \"leite\", \"pão\", \"arroz\", \"feijão\"]\n",
    "\n",
    "for item in itens_mercado:\n",
    "\tprint(item)"
   ]
  },
  {
   "cell_type": "code",
   "execution_count": null,
   "metadata": {},
   "outputs": [],
   "source": [
    "# break e continue para controlar melhor o loop for\n",
    "\n",
    "for item in itens_mercado:\n",
    "    if item == \"leite\":\n",
    "        continue\n",
    "    print(item)\n",
    "\n",
    "\n",
    "for item in itens_mercado:\n",
    "    if item == \"leite\":\n",
    "        break\n",
    "    print(item)"
   ]
  }
 ],
 "metadata": {
  "kernelspec": {
   "display_name": "Python 3",
   "language": "python",
   "name": "python3"
  },
  "language_info": {
   "codemirror_mode": {
    "name": "ipython",
    "version": 3
   },
   "file_extension": ".py",
   "mimetype": "text/x-python",
   "name": "python",
   "nbconvert_exporter": "python",
   "pygments_lexer": "ipython3",
   "version": "3.9.2"
  }
 },
 "nbformat": 4,
 "nbformat_minor": 2
}
