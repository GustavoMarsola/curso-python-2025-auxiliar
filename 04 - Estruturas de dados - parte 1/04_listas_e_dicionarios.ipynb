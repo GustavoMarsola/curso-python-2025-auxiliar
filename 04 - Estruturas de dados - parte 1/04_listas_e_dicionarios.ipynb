{
 "cells": [
  {
   "cell_type": "markdown",
   "metadata": {},
   "source": [
    "# Listas (list) <br>"
   ]
  },
  {
   "cell_type": "markdown",
   "metadata": {},
   "source": [
    "## Definição <br>\n",
    "Listas são estruturas de dados ordenados, mutáveis e podem conter elementos de diferentes tipos (como números, strings, ou até outras listas)."
   ]
  },
  {
   "cell_type": "code",
   "execution_count": null,
   "metadata": {},
   "outputs": [],
   "source": [
    "lista_mercado = ['ovos', 'farinha', 'leite', 'pao']"
   ]
  },
  {
   "cell_type": "markdown",
   "metadata": {},
   "source": [
    "## Principais Operações com Listas"
   ]
  },
  {
   "cell_type": "markdown",
   "metadata": {},
   "source": [
    "### 1. Acessar elementos"
   ]
  },
  {
   "cell_type": "code",
   "execution_count": null,
   "metadata": {},
   "outputs": [],
   "source": [
    "primeiro_item = lista_mercado[0]\n",
    "print(primeiro_item)"
   ]
  },
  {
   "cell_type": "markdown",
   "metadata": {},
   "source": [
    "### 2. Alterar elementos"
   ]
  },
  {
   "cell_type": "code",
   "execution_count": null,
   "metadata": {},
   "outputs": [],
   "source": [
    "lista_mercado[0] = 'chocolate'\n",
    "print(lista_mercado)"
   ]
  },
  {
   "cell_type": "markdown",
   "metadata": {},
   "source": [
    "### 3. Adicionar elementos"
   ]
  },
  {
   "cell_type": "code",
   "execution_count": null,
   "metadata": {},
   "outputs": [],
   "source": [
    "# No final\n",
    "lista_mercado.append('cafe')\n",
    "print(lista_mercado)"
   ]
  },
  {
   "cell_type": "code",
   "execution_count": null,
   "metadata": {},
   "outputs": [],
   "source": [
    "# Em uma posição específica\n",
    "lista_mercado.insert(2, 'morango')\n",
    "print(lista_mercado)"
   ]
  },
  {
   "cell_type": "markdown",
   "metadata": {},
   "source": [
    "### 4. Remover elementos"
   ]
  },
  {
   "cell_type": "code",
   "execution_count": null,
   "metadata": {},
   "outputs": [],
   "source": [
    "# Pelo valor\n",
    "lista_mercado.remove('pao')\n",
    "print(lista_mercado)"
   ]
  },
  {
   "cell_type": "code",
   "execution_count": null,
   "metadata": {},
   "outputs": [],
   "source": [
    "# Pelo índice\n",
    "lista_mercado.pop(0)\n",
    "print(lista_mercado)"
   ]
  },
  {
   "cell_type": "markdown",
   "metadata": {},
   "source": [
    "### 5. Fatiamento"
   ]
  },
  {
   "cell_type": "code",
   "execution_count": null,
   "metadata": {},
   "outputs": [],
   "source": [
    "print(lista_mercado[1:3])\n",
    "print(lista_mercado[:2])"
   ]
  },
  {
   "cell_type": "markdown",
   "metadata": {},
   "source": [
    "### 6. Tamanho da lista"
   ]
  },
  {
   "cell_type": "code",
   "execution_count": null,
   "metadata": {},
   "outputs": [],
   "source": [
    "qtd_itens = len(lista_mercado)\n",
    "print(qtd_itens)"
   ]
  },
  {
   "cell_type": "markdown",
   "metadata": {},
   "source": [
    "### 7. Verificar presença"
   ]
  },
  {
   "cell_type": "code",
   "execution_count": null,
   "metadata": {},
   "outputs": [],
   "source": [
    "verificar = 'pao' in lista_mercado\n",
    "print(verificar)\n",
    "\n",
    "verificar = 'farinha' in lista_mercado\n",
    "print(verificar)"
   ]
  },
  {
   "cell_type": "markdown",
   "metadata": {},
   "source": [
    "### 8. Iterar sobre os elementos"
   ]
  },
  {
   "cell_type": "code",
   "execution_count": null,
   "metadata": {},
   "outputs": [],
   "source": [
    "# Através do loop for\n",
    "\n",
    "for item in lista_mercado:\n",
    "    print(item)"
   ]
  },
  {
   "cell_type": "markdown",
   "metadata": {},
   "source": [
    "## Métodos Úteis de Listas"
   ]
  },
  {
   "cell_type": "markdown",
   "metadata": {},
   "source": [
    "### 1. Ordenar"
   ]
  },
  {
   "cell_type": "code",
   "execution_count": null,
   "metadata": {},
   "outputs": [],
   "source": [
    "# Ordenar\n",
    "\n",
    "lista_mercado.sort()\n",
    "print(lista_mercado)"
   ]
  },
  {
   "cell_type": "markdown",
   "metadata": {},
   "source": [
    "### 2. Reverter a ordem"
   ]
  },
  {
   "cell_type": "code",
   "execution_count": null,
   "metadata": {},
   "outputs": [],
   "source": [
    "lista_mercado.sort(reverse=True)\n",
    "print(lista_mercado)\n",
    "\n",
    "lista_mercado.reverse()\n",
    "print(lista_mercado)"
   ]
  },
  {
   "cell_type": "markdown",
   "metadata": {},
   "source": [
    "### 3. Contar ocorrências"
   ]
  },
  {
   "cell_type": "code",
   "execution_count": null,
   "metadata": {},
   "outputs": [],
   "source": [
    "qtd_cafe = lista_mercado.count('cafe')\n",
    "print(qtd_cafe)"
   ]
  },
  {
   "cell_type": "markdown",
   "metadata": {},
   "source": [
    "### 4. Obter índice de um elemento"
   ]
  },
  {
   "cell_type": "code",
   "execution_count": null,
   "metadata": {},
   "outputs": [],
   "source": [
    "indice_cafe = lista_mercado.index('cafe')\n",
    "print(indice_cafe)"
   ]
  },
  {
   "cell_type": "markdown",
   "metadata": {},
   "source": [
    "### 5. Copiar uma lista"
   ]
  },
  {
   "cell_type": "code",
   "execution_count": null,
   "metadata": {},
   "outputs": [],
   "source": [
    "copia_itens_mercado = lista_mercado.copy()\n",
    "print(copia_itens_mercado)"
   ]
  },
  {
   "cell_type": "markdown",
   "metadata": {},
   "source": [
    "### 6. Concatenar listas"
   ]
  },
  {
   "cell_type": "code",
   "execution_count": null,
   "metadata": {},
   "outputs": [],
   "source": [
    "mais_itens = ['suco', 'arroz', 'feijao']\n",
    "lista_mercado.extend(mais_itens)  # adiciona os itens da lista mais_itens na lista original\n",
    "\n",
    "print(lista_mercado)"
   ]
  },
  {
   "cell_type": "markdown",
   "metadata": {},
   "source": [
    "### 7. Limpar a lista"
   ]
  },
  {
   "cell_type": "code",
   "execution_count": null,
   "metadata": {},
   "outputs": [],
   "source": [
    "lista_mercado.clear()\n",
    "print(lista_mercado)"
   ]
  },
  {
   "cell_type": "markdown",
   "metadata": {},
   "source": [
    "# Dicionários (dict)"
   ]
  },
  {
   "cell_type": "markdown",
   "metadata": {},
   "source": [
    "## Definição <br>\n",
    "Dicionários são estruturas de dados em formato de chave-valor. <br>\n",
    "Ele é utilizado para associar valores a chaves únicas, permitindo acessar os valores rapidamente com base em suas chaves."
   ]
  },
  {
   "cell_type": "code",
   "execution_count": null,
   "metadata": {},
   "outputs": [],
   "source": [
    "gustavo_marsola = {\n",
    "    \"nome\": \"Gustavo\",\n",
    "    \"sobrenome\": \"Marsola\",\n",
    "    \"idade\": 26,\n",
    "    \"profissao\": \"Desenvolvedor de Software\"\n",
    "}"
   ]
  },
  {
   "cell_type": "markdown",
   "metadata": {},
   "source": [
    "## Principais Operações com Dicionários"
   ]
  },
  {
   "cell_type": "markdown",
   "metadata": {},
   "source": [
    "### 1. Acessar Elementos"
   ]
  },
  {
   "cell_type": "code",
   "execution_count": null,
   "metadata": {},
   "outputs": [],
   "source": [
    "# Por chave\n",
    "profissao = gustavo_marsola['profissao']\n",
    "print(profissao)"
   ]
  },
  {
   "cell_type": "code",
   "execution_count": null,
   "metadata": {},
   "outputs": [],
   "source": [
    "# Método get\n",
    "idade = gustavo_marsola.get('idade')\n",
    "print(idade)"
   ]
  },
  {
   "cell_type": "markdown",
   "metadata": {},
   "source": [
    "### 2. Adicionar e Modificar Elementos"
   ]
  },
  {
   "cell_type": "code",
   "execution_count": null,
   "metadata": {},
   "outputs": [],
   "source": [
    "# Adicionar um par chave/valor\n",
    "gustavo_marsola.update({\"cidade\": \"Jandira\"})\n",
    "\n",
    "gustavo_marsola['estado'] = 'São Paulo'\n",
    "print(gustavo_marsola)"
   ]
  },
  {
   "cell_type": "code",
   "execution_count": null,
   "metadata": {},
   "outputs": [],
   "source": [
    "# Modificar valor existente\n",
    "gustavo_marsola.update({\"cidade\": \"Bonito\"})\n",
    "\n",
    "gustavo_marsola['estado'] = 'Mato Grosso do Sul'\n",
    "print(gustavo_marsola)\n"
   ]
  },
  {
   "cell_type": "markdown",
   "metadata": {},
   "source": [
    "### 3. Remover Elementos"
   ]
  },
  {
   "cell_type": "code",
   "execution_count": null,
   "metadata": {},
   "outputs": [],
   "source": [
    "# Método pop\n",
    "gustavo_marsola.pop('idade')\n",
    "print(gustavo_marsola)\n",
    "\n",
    "\n",
    "# Método popitem\n",
    "gustavo_marsola.popitem()\n",
    "print(gustavo_marsola)"
   ]
  },
  {
   "cell_type": "code",
   "execution_count": null,
   "metadata": {},
   "outputs": [],
   "source": [
    "# Método del\n",
    "del gustavo_marsola['estado']\n",
    "print(gustavo_marsola)"
   ]
  },
  {
   "cell_type": "code",
   "execution_count": null,
   "metadata": {},
   "outputs": [],
   "source": [
    "# Método clear\n",
    "gustavo_marsola.clear()\n",
    "print(gustavo_marsola)"
   ]
  },
  {
   "cell_type": "markdown",
   "metadata": {},
   "source": [
    "### 4. Iterar sobre dicionários"
   ]
  },
  {
   "cell_type": "code",
   "execution_count": null,
   "metadata": {},
   "outputs": [],
   "source": [
    "# Itens\n",
    "itens = gustavo_marsola.items()\n",
    "print(itens)\n",
    "# Chaves\n",
    "chaves = gustavo_marsola.keys()\n",
    "print(chaves)\n",
    "# Valores\n",
    "valores = gustavo_marsola.values()\n",
    "print(valores)"
   ]
  },
  {
   "cell_type": "markdown",
   "metadata": {},
   "source": [
    "### 5. Copiar um dicionário"
   ]
  },
  {
   "cell_type": "code",
   "execution_count": null,
   "metadata": {},
   "outputs": [],
   "source": [
    "copia_gustavo = gustavo_marsola.copy()\n",
    "print(copia_gustavo)"
   ]
  }
 ],
 "metadata": {
  "kernelspec": {
   "display_name": "Python 3",
   "language": "python",
   "name": "python3"
  },
  "language_info": {
   "codemirror_mode": {
    "name": "ipython",
    "version": 3
   },
   "file_extension": ".py",
   "mimetype": "text/x-python",
   "name": "python",
   "nbconvert_exporter": "python",
   "pygments_lexer": "ipython3",
   "version": "3.12.0"
  }
 },
 "nbformat": 4,
 "nbformat_minor": 2
}
