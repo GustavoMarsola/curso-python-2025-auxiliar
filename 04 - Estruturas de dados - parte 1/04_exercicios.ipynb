{
 "cells": [
  {
   "cell_type": "markdown",
   "metadata": {},
   "source": [
    "# Exercícios de fixação"
   ]
  },
  {
   "cell_type": "markdown",
   "metadata": {},
   "source": [
    "### 1. Fechamento de contas"
   ]
  },
  {
   "cell_type": "code",
   "execution_count": null,
   "metadata": {},
   "outputs": [],
   "source": [
    "despesas = [112.57, 257.32, 310.45, 90.90, 534.87]\n",
    "receitas = [250.00, 345.00, 120.00, 120.00, 300.00]\n",
    "\n",
    "soma_despesas = sum(despesas)\n",
    "max_despesa   = max(despesas)\n",
    "min_despesa   = min(despesas)\n",
    "\n",
    "soma_receitas = sum(receitas)\n",
    "\n",
    "saldo = soma_receitas - soma_despesas\n",
    "print(f\"Saldo: R$ {saldo:.2f}\")\n",
    "print(f\"O maior valor gasto foi de: R$ {max_despesa:.2f}\")\n",
    "print(f\"O menor valor gasto foi de: R$ {min_despesa:.2f}\")\n",
    "\n"
   ]
  },
  {
   "cell_type": "markdown",
   "metadata": {},
   "source": [
    "### 2. Alteração de senha para usuário"
   ]
  },
  {
   "cell_type": "code",
   "execution_count": null,
   "metadata": {},
   "outputs": [],
   "source": [
    "usuarios = {\n",
    "    'Fulano Silva': 'teste12345',\n",
    "    'Ciclano Souza': 'senha123',\n",
    "    'Beltrano Oliveira': 'beltrano123',\n",
    "    'João Ninguém': 'joao123'\n",
    "}\n",
    "\n",
    "usuario = input(\"Digite o nome do usuário: \")\n",
    "senha   = input(\"Digite a nova senha do usuário: \")\n",
    "\n",
    "senha_antiga = usuarios[usuario]\n",
    "usuarios[usuario] = senha\n",
    "\n",
    "print(f'O usuário {usuario} teve sua senha alterada de \"{senha_antiga}\" para \"{senha}\" com sucesso!')"
   ]
  },
  {
   "cell_type": "markdown",
   "metadata": {},
   "source": [
    "# Desafios"
   ]
  },
  {
   "cell_type": "markdown",
   "metadata": {},
   "source": [
    "### 1. Controle de Estoque"
   ]
  },
  {
   "cell_type": "code",
   "execution_count": null,
   "metadata": {},
   "outputs": [],
   "source": [
    "estoque = [\n",
    "    {\n",
    "        \"produto\": \"camiseta\",\n",
    "        \"quantidade\": 10,\n",
    "        \"preco\": 25.00\n",
    "    },\n",
    "    {\n",
    "        \"produto\": \"bermuda\",\n",
    "        \"quantidade\": 5,\n",
    "        \"preco\": 50.00\n",
    "    },\n",
    "    {\n",
    "        \"produto\": \"meia\",\n",
    "        \"quantidade\": 20,\n",
    "        \"preco\": 5.00\n",
    "    }\n",
    "]"
   ]
  },
  {
   "cell_type": "markdown",
   "metadata": {},
   "source": [
    "##### a. Adicione um novo produto"
   ]
  },
  {
   "cell_type": "code",
   "execution_count": null,
   "metadata": {},
   "outputs": [],
   "source": []
  },
  {
   "cell_type": "markdown",
   "metadata": {},
   "source": [
    "##### b. Altere o valor das bermudas para R$ 47,90"
   ]
  },
  {
   "cell_type": "code",
   "execution_count": null,
   "metadata": {},
   "outputs": [],
   "source": []
  },
  {
   "cell_type": "markdown",
   "metadata": {},
   "source": [
    "##### c. Movimentação de estoque para compra de 4 camisetas"
   ]
  },
  {
   "cell_type": "code",
   "execution_count": null,
   "metadata": {},
   "outputs": [],
   "source": []
  }
 ],
 "metadata": {
  "kernelspec": {
   "display_name": "Python 3",
   "language": "python",
   "name": "python3"
  },
  "language_info": {
   "codemirror_mode": {
    "name": "ipython",
    "version": 3
   },
   "file_extension": ".py",
   "mimetype": "text/x-python",
   "name": "python",
   "nbconvert_exporter": "python",
   "pygments_lexer": "ipython3",
   "version": "3.12.0"
  }
 },
 "nbformat": 4,
 "nbformat_minor": 2
}
