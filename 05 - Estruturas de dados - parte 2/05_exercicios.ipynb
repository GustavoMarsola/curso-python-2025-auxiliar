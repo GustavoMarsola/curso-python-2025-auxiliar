{
 "cells": [
  {
   "cell_type": "markdown",
   "metadata": {},
   "source": [
    "# Exercícios de fixação"
   ]
  },
  {
   "cell_type": "markdown",
   "metadata": {},
   "source": [
    "### 1. Ordernamento de produtos por valor"
   ]
  },
  {
   "cell_type": "code",
   "execution_count": 5,
   "metadata": {},
   "outputs": [
    {
     "name": "stdout",
     "output_type": "stream",
     "text": [
      "----------------------------------------\n",
      "           LISTAGEM DE PREÇOS           \n",
      "Lapis......................... R$    1.75\n",
      "Borracha...................... R$    2.00\n",
      "Transferidor.................. R$    4.20\n",
      "Compasso...................... R$    9.99\n",
      "Caderno....................... R$   15.90\n",
      "Canetas....................... R$   22.30\n",
      "Estojo........................ R$   25.00\n",
      "Livro......................... R$   34.90\n",
      "Mochila....................... R$  120.32\n"
     ]
    }
   ],
   "source": [
    "produtos = (\n",
    "    ('Lapis', 1.75),\n",
    "    ('Caderno', 15.90),\n",
    "    ('Estojo', 25.00),\n",
    "    ('Transferidor', 4.20),\n",
    "    ('Compasso', 9.99),\n",
    "    ('Mochila', 120.32),\n",
    "    ('Borracha', 2.00),\n",
    "    ('Canetas', 22.30),\n",
    "    ('Livro', 34.90)\n",
    ")\n",
    "\n",
    "ordenar_produtos_por_preco = sorted(produtos, key=lambda produto: produto[1])\n",
    "\n",
    "print('-' * 40)\n",
    "print(f'{\"LISTAGEM DE PREÇOS\":^40}')\n",
    "for produto in ordenar_produtos_por_preco:\n",
    "    print(f'{produto[0]:.<30} R$ {produto[1]:>7.2f}')"
   ]
  },
  {
   "cell_type": "markdown",
   "metadata": {},
   "source": [
    "### 2. Convidados para o casamento"
   ]
  },
  {
   "cell_type": "code",
   "execution_count": 9,
   "metadata": {},
   "outputs": [
    {
     "name": "stdout",
     "output_type": "stream",
     "text": [
      "\n",
      "Convidados Comum: {'Ana', 'Lucas', 'Maria'}\n",
      "Convidados Exclusivos: {'Pedro', 'Arthur', 'João', 'José', 'Fernanda'}\n",
      "Convidados Exclusivos Noivo: {'João', 'Pedro'}\n",
      "Convidados Exclusivos Noiva: {'Arthur', 'José', 'Fernanda'}\n",
      "Todos os convidados: {'Maria', 'Arthur', 'João', 'Ana', 'José', 'Pedro', 'Lucas', 'Fernanda'}\n"
     ]
    }
   ],
   "source": [
    "convidados_noivo = {'Ana', 'Maria', 'João', 'Pedro', 'Lucas'}\n",
    "convidados_noiva = {'Ana', 'Maria', 'Arthur', 'José', 'Lucas', 'Fernanda'}\n",
    "\n",
    "convidados_comum = convidados_noivo.intersection(convidados_noiva)\n",
    "convidados_exclusivos = convidados_noivo.symmetric_difference(convidados_noiva)\n",
    "convidados_exclusivos_noivo = convidados_noivo.difference(convidados_noiva)\n",
    "convidados_exclusivos_noiva = convidados_noiva.difference(convidados_noivo)\n",
    "total_convidados = convidados_noivo.union(convidados_noiva)\n",
    "\n",
    "print(f'\\nConvidados Comum: {convidados_comum}')\n",
    "print(f'Convidados Exclusivos: {convidados_exclusivos}')\n",
    "print(f'Convidados Exclusivos Noivo: {convidados_exclusivos_noivo}')\n",
    "print(f'Convidados Exclusivos Noiva: {convidados_exclusivos_noiva}')\n",
    "print(f'Todos os convidados: {total_convidados}')\n",
    "\n",
    "\n"
   ]
  }
 ],
 "metadata": {
  "kernelspec": {
   "display_name": "Python 3",
   "language": "python",
   "name": "python3"
  },
  "language_info": {
   "codemirror_mode": {
    "name": "ipython",
    "version": 3
   },
   "file_extension": ".py",
   "mimetype": "text/x-python",
   "name": "python",
   "nbconvert_exporter": "python",
   "pygments_lexer": "ipython3",
   "version": "3.12.0"
  }
 },
 "nbformat": 4,
 "nbformat_minor": 2
}
