{
 "cells": [
  {
   "cell_type": "markdown",
   "metadata": {},
   "source": [
    "# Tuplas (tuple)"
   ]
  },
  {
   "cell_type": "markdown",
   "metadata": {},
   "source": [
    "## Definição <br>\n",
    "Tuplas são estruturas de dados que armazenam uma sequência de elementos, como as listas, mas com a diferença de que são imutáveis. Ou seja, após a criação de uma tupla, seus elementos não podem ser alterados, adicionados ou removidos."
   ]
  },
  {
   "cell_type": "code",
   "execution_count": null,
   "metadata": {},
   "outputs": [],
   "source": [
    "esportes_diversos = ('futebol', 'volei', 'basquete', 'natacao', 'tenis')"
   ]
  },
  {
   "cell_type": "markdown",
   "metadata": {},
   "source": [
    "## Principais Operações com Tuplas"
   ]
  },
  {
   "cell_type": "markdown",
   "metadata": {},
   "source": [
    "### 1. Acessar os elementos"
   ]
  },
  {
   "cell_type": "code",
   "execution_count": null,
   "metadata": {},
   "outputs": [],
   "source": [
    "# Primeiro\n",
    "\n",
    "primeiro = esportes_diversos[0]\n",
    "print(f'O primeiro esporte é: {primeiro}')\n",
    "\n",
    "# Último\n",
    "\n",
    "ultimo = esportes_diversos[-1]\n",
    "print(f'O último esporte é: {ultimo}')"
   ]
  },
  {
   "cell_type": "code",
   "execution_count": null,
   "metadata": {},
   "outputs": [],
   "source": [
    "# Índice qualquer\n",
    "\n",
    "terceiro = esportes_diversos[2]\n",
    "print(f'O terceiro esporte é: {terceiro}')"
   ]
  },
  {
   "cell_type": "markdown",
   "metadata": {},
   "source": [
    "### 2. Fatiamento"
   ]
  },
  {
   "cell_type": "code",
   "execution_count": null,
   "metadata": {},
   "outputs": [],
   "source": [
    "\n",
    "print(f'Os três primeiros esportes são: {esportes_diversos[:3]}')"
   ]
  },
  {
   "cell_type": "markdown",
   "metadata": {},
   "source": [
    "### 3. Concatenar\n",
    "Como as tuplas são imutáveis, não é possível alterar seus elementos diretamente. Contudo, você pode combinar tuplas ou criar novas a partir de operações de concatenação e fatiamento."
   ]
  },
  {
   "cell_type": "code",
   "execution_count": null,
   "metadata": {},
   "outputs": [],
   "source": [
    "lutas_esportivas = ('muay thai', 'mma', 'judo', 'karate', 'jiu jitsu')\n",
    "\n",
    "esportes = esportes_diversos + lutas_esportivas\n",
    "print(esportes)"
   ]
  },
  {
   "cell_type": "markdown",
   "metadata": {},
   "source": [
    "### 4. Tamanho da tupla"
   ]
  },
  {
   "cell_type": "code",
   "execution_count": null,
   "metadata": {},
   "outputs": [],
   "source": [
    "print(f\"Estão registrados {len(esportes)} esportes\")"
   ]
  },
  {
   "cell_type": "markdown",
   "metadata": {},
   "source": [
    "## Métodos Úteis de Tuplas"
   ]
  },
  {
   "cell_type": "markdown",
   "metadata": {},
   "source": [
    "### 1. count"
   ]
  },
  {
   "cell_type": "code",
   "execution_count": null,
   "metadata": {},
   "outputs": [],
   "source": [
    "qtd_judo = esportes.count('judo')\n",
    "print(f\"O esporte judô está registrado {qtd_judo} vezes\")"
   ]
  },
  {
   "cell_type": "markdown",
   "metadata": {},
   "source": [
    "### 2. index"
   ]
  },
  {
   "cell_type": "code",
   "execution_count": null,
   "metadata": {},
   "outputs": [],
   "source": [
    "indice_judo = esportes.index('judo')\n",
    "print(f\"O esporte judô está na posição {indice_judo}\")"
   ]
  },
  {
   "cell_type": "markdown",
   "metadata": {},
   "source": [
    "# Conjuntos  (set)\n"
   ]
  },
  {
   "cell_type": "markdown",
   "metadata": {},
   "source": [
    "## Definição <br>\n",
    "Um conjunto é uma coleção de itens não ordenados, mutáveis e sem elementos duplicados. Ou seja, ele não permite elementos repetidos e não mantém a ordem dos elementos, ao contrário das listas ou tuplas."
   ]
  },
  {
   "cell_type": "code",
   "execution_count": null,
   "metadata": {},
   "outputs": [],
   "source": [
    "esportes_gerais = {'futebol', 'volei', 'basquete'}\n",
    "lutas_esportivas = {'muay thai', 'mma', 'judo'}\n",
    "esportes_coletivos = {'futebol', 'basquete'}\n",
    "esportes_individuais = {'natacao', 'tenis', 'judo'}"
   ]
  },
  {
   "cell_type": "markdown",
   "metadata": {},
   "source": [
    "## Principais Operações com conjuntos"
   ]
  },
  {
   "cell_type": "markdown",
   "metadata": {},
   "source": [
    "### 1. Adicionar elementos"
   ]
  },
  {
   "cell_type": "code",
   "execution_count": null,
   "metadata": {},
   "outputs": [],
   "source": [
    "# Adicionando elementos em todos os conjuntos\n",
    "esportes_gerais.add('natacao')\n",
    "lutas_esportivas.add('karate')\n",
    "esportes_coletivos.add('volei')\n",
    "esportes_individuais.add('karate')"
   ]
  },
  {
   "cell_type": "markdown",
   "metadata": {},
   "source": [
    "### 2. Remover elementos"
   ]
  },
  {
   "cell_type": "code",
   "execution_count": null,
   "metadata": {},
   "outputs": [],
   "source": [
    "# Removendo elementos em todos os conjuntos\n",
    "esportes_gerais.remove('volei')\n",
    "lutas_esportivas.remove('judo')\n",
    "esportes_coletivos.remove('basquete')\n",
    "esportes_individuais.remove('judo')\n"
   ]
  },
  {
   "cell_type": "markdown",
   "metadata": {},
   "source": [
    "### 3. Limpar\n"
   ]
  },
  {
   "cell_type": "code",
   "execution_count": null,
   "metadata": {},
   "outputs": [],
   "source": [
    "# Limpando todos os conjuntos\n",
    "esportes_gerais.clear()\n",
    "lutas_esportivas.clear()\n",
    "esportes_coletivos.clear()\n",
    "esportes_individuais.clear()\n"
   ]
  },
  {
   "cell_type": "markdown",
   "metadata": {},
   "source": [
    "### 4. Verificar existência de elementos"
   ]
  },
  {
   "cell_type": "code",
   "execution_count": null,
   "metadata": {},
   "outputs": [],
   "source": [
    "# Verificando se os conjuntos tem determinado elemento\n",
    "print('futebol' in esportes_gerais)\n",
    "print('mma' in lutas_esportivas)\n",
    "print('basquete' in esportes_coletivos)\n",
    "print('natacao' in esportes_individuais)"
   ]
  },
  {
   "cell_type": "markdown",
   "metadata": {},
   "source": [
    "### 5. Tamanho de uma sequência"
   ]
  },
  {
   "cell_type": "code",
   "execution_count": null,
   "metadata": {},
   "outputs": [],
   "source": [
    "# Quantidades de elementos em cada conjunto\n",
    "print(f\"O conjunto esportes_gerais tem {len(esportes_gerais)} elementos\")\n",
    "print(f\"O conjunto lutas_esportivas tem {len(lutas_esportivas)} elementos\")\n",
    "print(f\"O conjunto esportes_coletivos tem {len(esportes_coletivos)} elementos\")\n",
    "print(f\"O conjunto esportes_individuais tem {len(esportes_individuais)} elementos\")"
   ]
  },
  {
   "cell_type": "markdown",
   "metadata": {},
   "source": [
    "## Operações matemáticas com conjuntos"
   ]
  },
  {
   "cell_type": "markdown",
   "metadata": {},
   "source": [
    "### 1. União"
   ]
  },
  {
   "cell_type": "code",
   "execution_count": null,
   "metadata": {},
   "outputs": [],
   "source": [
    "# Unindo todos os conjuntos\n",
    "esportes = set()\n",
    "\n",
    "esportes.update(esportes_gerais)\n",
    "esportes.update(lutas_esportivas)\n",
    "esportes.update(esportes_coletivos)\n",
    "esportes.update(esportes_individuais)\n",
    "\n",
    "print(esportes)\n",
    "\n",
    "# Obs: Perceba que não há repetição de elementos\n",
    "print(f\"Estão registrados {len(esportes)} esportes\")"
   ]
  },
  {
   "cell_type": "markdown",
   "metadata": {},
   "source": [
    "### 2. Interseção "
   ]
  },
  {
   "cell_type": "code",
   "execution_count": null,
   "metadata": {},
   "outputs": [],
   "source": [
    "# Interseção significa que os elementos de um conjunto estão contidos em outro\n",
    "\n",
    "# Lutas que também estão em esportes individuais\n",
    "lutas_e_individuais = lutas_esportivas.intersection(esportes_individuais)\n",
    "print(lutas_e_individuais)\n",
    "\n",
    "# Esportes coletivos que também estão em esportes gerais\n",
    "coletivos_e_gerais = esportes_coletivos.intersection(esportes_gerais)\n",
    "print(coletivos_e_gerais)"
   ]
  },
  {
   "cell_type": "markdown",
   "metadata": {},
   "source": [
    "### 3. Diferença"
   ]
  },
  {
   "cell_type": "code",
   "execution_count": null,
   "metadata": {},
   "outputs": [],
   "source": [
    "# Lutas que não estão em esportes individuais\n",
    "lutas_nao_gerais = lutas_esportivas.difference(esportes_individuais)\n",
    "print(lutas_nao_gerais)"
   ]
  },
  {
   "cell_type": "markdown",
   "metadata": {},
   "source": [
    "### 4. Diferença simétrica"
   ]
  },
  {
   "cell_type": "code",
   "execution_count": null,
   "metadata": {},
   "outputs": [],
   "source": [
    "# Diferença simétrica significa que os elementos que estão em um conjunto e não estão no outro\n",
    "diferenca_simetrica = esportes_gerais.symmetric_difference(lutas_esportivas)\n",
    "print(diferenca_simetrica)"
   ]
  },
  {
   "cell_type": "markdown",
   "metadata": {},
   "source": [
    "### 5. Subconjunto "
   ]
  },
  {
   "cell_type": "code",
   "execution_count": null,
   "metadata": {},
   "outputs": [],
   "source": [
    "# Subconjunto significa que todos os elementos de um conjunto estão contidos em outro\n",
    "subconjunto = esportes_gerais.issubset(esportes)\n",
    "print(subconjunto)"
   ]
  },
  {
   "cell_type": "markdown",
   "metadata": {},
   "source": [
    "### 6. Superconjunto "
   ]
  },
  {
   "cell_type": "code",
   "execution_count": null,
   "metadata": {},
   "outputs": [],
   "source": [
    "# Superconjunto significa que todos os elementos de um conjunto contém todos os elementos de outro\n",
    "superconjunto = esportes.issuperset(esportes_gerais)\n",
    "print(superconjunto)"
   ]
  },
  {
   "cell_type": "markdown",
   "metadata": {},
   "source": [
    "### 7. Disjunção "
   ]
  },
  {
   "cell_type": "code",
   "execution_count": null,
   "metadata": {},
   "outputs": [],
   "source": [
    "# Disjunção significa que dois conjuntos não tem elementos em comum\n",
    "disjuncao = esportes_gerais.isdisjoint(lutas_esportivas)\n",
    "print(disjuncao)"
   ]
  }
 ],
 "metadata": {
  "kernelspec": {
   "display_name": "Python 3",
   "language": "python",
   "name": "python3"
  },
  "language_info": {
   "codemirror_mode": {
    "name": "ipython",
    "version": 3
   },
   "file_extension": ".py",
   "mimetype": "text/x-python",
   "name": "python",
   "nbconvert_exporter": "python",
   "pygments_lexer": "ipython3",
   "version": "3.12.0"
  }
 },
 "nbformat": 4,
 "nbformat_minor": 2
}
