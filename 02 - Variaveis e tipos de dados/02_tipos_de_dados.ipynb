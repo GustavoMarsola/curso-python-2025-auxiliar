{
 "cells": [
  {
   "cell_type": "markdown",
   "metadata": {},
   "source": [
    "# A melhor maneira de compreender os tipos básicos de dados do python é descrevendo uma pessoa real"
   ]
  },
  {
   "cell_type": "markdown",
   "metadata": {},
   "source": [
    "### Strings (str) - representam cadeias de caracteres <br>\n",
    "A melhor maneira de representar o nome de alguém na linguagem python é através das strings."
   ]
  },
  {
   "cell_type": "code",
   "execution_count": null,
   "metadata": {},
   "outputs": [],
   "source": [
    "nome = \"Gustavo Marsola Borges da Silveira\"\n",
    "\n",
    "print(nome, type(nome))"
   ]
  },
  {
   "cell_type": "markdown",
   "metadata": {},
   "source": [
    "### Inteiros (int) e flutuantes (float) - representam números <br>\n",
    "A melhor maneira de representar a idade e o peso de alguém na linguagem python é através de inteiros e flutuantes."
   ]
  },
  {
   "cell_type": "code",
   "execution_count": null,
   "metadata": {},
   "outputs": [],
   "source": [
    "idade = 27\n",
    "peso  = 92.5   # Obs: não há separador de milhar, e o separador de decimal é o ponto !\n",
    "\n",
    "print(idade, type(idade))\n",
    "print(peso,  type(peso))"
   ]
  },
  {
   "cell_type": "markdown",
   "metadata": {},
   "source": [
    "### Booleanos (bool) - representam afirmações lógicas <br>\n",
    "Os serem humanos não costumam dizer afirmações lógicas, mas para a linguagem python é muito prático."
   ]
  },
  {
   "cell_type": "code",
   "execution_count": null,
   "metadata": {},
   "outputs": [],
   "source": [
    "casado = True\n",
    "ateu   = False\n",
    "\n",
    "print(casado, type(casado))\n",
    "print(ateu,  type(ateu))"
   ]
  },
  {
   "cell_type": "markdown",
   "metadata": {},
   "source": [
    "### Nulo (None) - trata-se da ausência de valor significativo\n",
    "Quando um atributo não é intrínseco à algo ou alguém, podemos dizer que tal atributo é nulo."
   ]
  },
  {
   "cell_type": "code",
   "execution_count": null,
   "metadata": {},
   "outputs": [],
   "source": [
    "calvicie = None\n",
    "diabetes = None\n",
    "\n",
    "print(calvicie, type(calvicie))\n",
    "print(diabetes,  type(diabetes))\n",
    "\n",
    "# Obs: não confundir nulo com valor 0\n",
    "# O valor 0 é usado em casos onde há potencial de haver mais valores quantitativos"
   ]
  }
 ],
 "metadata": {
  "kernelspec": {
   "display_name": "Python 3",
   "language": "python",
   "name": "python3"
  },
  "language_info": {
   "codemirror_mode": {
    "name": "ipython",
    "version": 3
   },
   "file_extension": ".py",
   "mimetype": "text/x-python",
   "name": "python",
   "nbconvert_exporter": "python",
   "pygments_lexer": "ipython3",
   "version": "3.9.2"
  }
 },
 "nbformat": 4,
 "nbformat_minor": 2
}
