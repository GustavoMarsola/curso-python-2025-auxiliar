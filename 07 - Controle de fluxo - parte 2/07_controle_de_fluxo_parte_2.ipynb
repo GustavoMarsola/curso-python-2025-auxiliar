{
 "cells": [
  {
   "cell_type": "markdown",
   "metadata": {},
   "source": [
    "### 3 - while é uma estrutura de controle de fluxo em Python que permite executar um bloco de código repetidamente enquanto uma condição for verdadeira. Ao contrário do for, que percorre uma sequência ou intervalo específico, o while continua executando até que a condição especificada se torne falsa."
   ]
  },
  {
   "cell_type": "code",
   "execution_count": 1,
   "metadata": {},
   "outputs": [
    {
     "name": "stdout",
     "output_type": "stream",
     "text": [
      "Estamos no número  1\n",
      "Estamos no número  2\n",
      "Estamos no número  3\n",
      "Estamos no número  4\n",
      "Estamos no número  5\n",
      "Estamos no número  6\n",
      "Estamos no número  7\n",
      "Estamos no número  8\n",
      "Estamos no número  9\n",
      "Estamos no número  10\n"
     ]
    }
   ],
   "source": [
    "# Um contador é sempre um exemplo útil de se usar no loop while\n",
    "contador = 0\n",
    "\n",
    "while contador < 10:\n",
    "\tcontador += 1\n",
    "\tprint(\"Estamos no número \", contador)"
   ]
  },
  {
   "cell_type": "markdown",
   "metadata": {},
   "source": [
    "### 4 - A estrutura match/case permite comparar uma expressão com diferentes padrões (ou \"cases\") e executar o código correspondente ao primeiro padrão que corresponder à expressão. Essa abordagem é particularmente útil quando você tem várias possibilidades de valores para comparar."
   ]
  },
  {
   "cell_type": "code",
   "execution_count": null,
   "metadata": {},
   "outputs": [],
   "source": [
    "dia = \"segunda-feira\"\n",
    "\n",
    "match dia:\n",
    "    case \"segunda-feira\":\n",
    "        print(\"Hoje é dia de trabalho!\")\n",
    "    case \"sábado\" | \"domingo\":\n",
    "        print(\"Hoje é fim de semana!\")\n",
    "    case _:\n",
    "        print(\"Dia inválido\")\n"
   ]
  }
 ],
 "metadata": {
  "kernelspec": {
   "display_name": "Python 3",
   "language": "python",
   "name": "python3"
  },
  "language_info": {
   "codemirror_mode": {
    "name": "ipython",
    "version": 3
   },
   "file_extension": ".py",
   "mimetype": "text/x-python",
   "name": "python",
   "nbconvert_exporter": "python",
   "pygments_lexer": "ipython3",
   "version": "3.9.2"
  }
 },
 "nbformat": 4,
 "nbformat_minor": 2
}
