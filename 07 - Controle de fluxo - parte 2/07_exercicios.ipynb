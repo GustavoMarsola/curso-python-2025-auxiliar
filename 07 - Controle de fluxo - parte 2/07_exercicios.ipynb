{
 "cells": [
  {
   "cell_type": "markdown",
   "metadata": {},
   "source": [
    "# Desafios"
   ]
  },
  {
   "cell_type": "markdown",
   "metadata": {},
   "source": [
    "### 1. Saques em caixa eletrônico"
   ]
  },
  {
   "cell_type": "code",
   "execution_count": null,
   "metadata": {},
   "outputs": [],
   "source": [
    "saldo_conta_bancaria = 1000\n",
    "print(\"Saldo atual: R$ \", saldo_conta_bancaria, '\\n')\n",
    "\n",
    "valor_saque = float(input(\"Digite o valor do saque: R$ \"))\n",
    "\n",
    "while valor_saque <= saldo_conta_bancaria:\n",
    "    saldo_conta_bancaria -= valor_saque\n",
    "    print(f\"Saque de R$ {valor_saque:.2f} efetuado com sucesso!\\n\")\n",
    "    print(\"Saldo atual: R$ \", saldo_conta_bancaria, '\\n')\n",
    "    valor_saque = float(input(\"Digite o valor do saque: R$ \"))\n",
    "else:\n",
    "    print(\"Saldo insuficiente!\\n\")"
   ]
  },
  {
   "cell_type": "markdown",
   "metadata": {},
   "source": [
    "### 2. Relatório completo de despesas"
   ]
  },
  {
   "cell_type": "code",
   "execution_count": 14,
   "metadata": {},
   "outputs": [
    {
     "name": "stdout",
     "output_type": "stream",
     "text": [
      "Despesa com Aluguel é maior que R$ 200,00\n",
      "Despesa com Energia Elétrica ultrapassou em R$ 15.00 o limite de R$ 135.00\n",
      "Despesa com Alimentação é maior que R$ 200,00\n",
      "Total de despesas: R$ 1850.00\n"
     ]
    }
   ],
   "source": [
    "despesas = (\n",
    "    (\"Aluguel\", 1000),\n",
    "    (\"Energia Elétrica\", 150),\n",
    "    (\"Água\", 50),\n",
    "    (\"Internet\", 150),\n",
    "    (\"Alimentação\", 500)\n",
    ")\n",
    "\n",
    "limite_energia_eletrica = 135\n",
    "\n",
    "soma_despesas = 0\n",
    "\n",
    "for despesa in despesas:\n",
    "    soma_despesas += despesa[1]\n",
    "    if despesa[1] > 200:\n",
    "        print(f\"Despesa com {despesa[0]} é maior que R$ 200,00\")\n",
    "    \n",
    "    if despesa[0] == \"Energia Elétrica\" and despesa[1] > limite_energia_eletrica:\n",
    "        diferenca = abs(despesa[1] - limite_energia_eletrica)\n",
    "        print(f\"Despesa com {despesa[0]} ultrapassou em R$ {diferenca:.2f} o limite de R$ {limite_energia_eletrica:.2f}\")\n",
    "\n",
    "print(f\"Total de despesas: R$ {soma_despesas:.2f}\")\n"
   ]
  },
  {
   "cell_type": "markdown",
   "metadata": {},
   "source": [
    "### 3. Juros compostos"
   ]
  },
  {
   "cell_type": "markdown",
   "metadata": {},
   "source": [
    "M=C×(1+i)^t\n",
    "\n",
    "Onde:\n",
    "\n",
    "M = montante final <br>\n",
    "C = capital inicial <br>\n",
    "i = taxa de juros (em decimal, ex: 5% → 0.05) <br>\n",
    "t = tempo em meses <br>"
   ]
  },
  {
   "cell_type": "code",
   "execution_count": 16,
   "metadata": {},
   "outputs": [
    {
     "name": "stdout",
     "output_type": "stream",
     "text": [
      "\n",
      "📊 Relatório do Investimento:\n",
      "Capital Inicial: R$ 5000.00\n",
      "Taxa de Juros: 0.50% ao mês\n",
      "Tempo: 48 meses\n",
      "\n",
      "📈 Crescimento mês a mês:\n",
      "Mês 1: R$ 5025.00\n",
      "Mês 2: R$ 5050.12\n",
      "Mês 3: R$ 5075.38\n",
      "Mês 4: R$ 5100.75\n",
      "Mês 5: R$ 5126.26\n",
      "Mês 6: R$ 5151.89\n",
      "Mês 7: R$ 5177.65\n",
      "Mês 8: R$ 5203.54\n",
      "Mês 9: R$ 5229.55\n",
      "Mês 10: R$ 5255.70\n",
      "Mês 11: R$ 5281.98\n",
      "Mês 12: R$ 5308.39\n",
      "Mês 13: R$ 5334.93\n",
      "Mês 14: R$ 5361.61\n",
      "Mês 15: R$ 5388.41\n",
      "Mês 16: R$ 5415.36\n",
      "Mês 17: R$ 5442.43\n",
      "Mês 18: R$ 5469.64\n",
      "Mês 19: R$ 5496.99\n",
      "Mês 20: R$ 5524.48\n",
      "Mês 21: R$ 5552.10\n",
      "Mês 22: R$ 5579.86\n",
      "Mês 23: R$ 5607.76\n",
      "Mês 24: R$ 5635.80\n",
      "Mês 25: R$ 5663.98\n",
      "Mês 26: R$ 5692.30\n",
      "Mês 27: R$ 5720.76\n",
      "Mês 28: R$ 5749.36\n",
      "Mês 29: R$ 5778.11\n",
      "Mês 30: R$ 5807.00\n",
      "Mês 31: R$ 5836.04\n",
      "Mês 32: R$ 5865.22\n",
      "Mês 33: R$ 5894.54\n",
      "Mês 34: R$ 5924.01\n",
      "Mês 35: R$ 5953.63\n",
      "Mês 36: R$ 5983.40\n",
      "Mês 37: R$ 6013.32\n",
      "Mês 38: R$ 6043.39\n",
      "Mês 39: R$ 6073.60\n",
      "Mês 40: R$ 6103.97\n",
      "Mês 41: R$ 6134.49\n",
      "Mês 42: R$ 6165.16\n",
      "Mês 43: R$ 6195.99\n",
      "Mês 44: R$ 6226.97\n",
      "Mês 45: R$ 6258.10\n",
      "Mês 46: R$ 6289.39\n",
      "Mês 47: R$ 6320.84\n",
      "Mês 48: R$ 6352.45\n",
      "\n",
      "💰 Montante final após 48 meses: R$ 6352.45\n",
      "📈 Lucro total: R$ 1352.45\n"
     ]
    }
   ],
   "source": [
    "# Solicita os dados do usuário\n",
    "capital_inicial = float(input(\"Digite o capital inicial investido: R$ \"))\n",
    "taxa_juros = float(input(\"Digite a taxa de juros mensal (em %): \")) / 100  # Convertendo para decimal\n",
    "meses = int(input(\"Digite o tempo de investimento (em meses): \"))\n",
    "\n",
    "# Criando o dicionário para armazenar os valores\n",
    "historico_investimento = {}\n",
    "\n",
    "# Calculando o crescimento do capital mês a mês\n",
    "capital_atual = capital_inicial\n",
    "for mes in range(1, meses + 1):\n",
    "    capital_atual *= (1 + taxa_juros)  # Aplica a fórmula dos juros compostos\n",
    "    historico_investimento[mes] = round(capital_atual, 2)  # Armazena o valor com 2 casas decimais\n",
    "\n",
    "# Exibindo o relatório final\n",
    "print(\"\\n📊 Relatório do Investimento:\")\n",
    "print(f\"Capital Inicial: R$ {capital_inicial:.2f}\")\n",
    "print(f\"Taxa de Juros: {taxa_juros * 100:.2f}% ao mês\")\n",
    "print(f\"Tempo: {meses} meses\\n\")\n",
    "\n",
    "print(\"📈 Crescimento mês a mês:\")\n",
    "for mes, saldo in historico_investimento.items():\n",
    "    print(f\"Mês {mes}: R$ {saldo:.2f}\")\n",
    "\n",
    "print(f\"\\n💰 Montante final após {meses} meses: R$ {capital_atual:.2f}\")\n",
    "lucro = capital_atual - capital_inicial\n",
    "print(f\"📈 Lucro total: R$ {lucro:.2f}\")\n"
   ]
  },
  {
   "cell_type": "code",
   "execution_count": null,
   "metadata": {},
   "outputs": [],
   "source": []
  }
 ],
 "metadata": {
  "kernelspec": {
   "display_name": "Python 3",
   "language": "python",
   "name": "python3"
  },
  "language_info": {
   "codemirror_mode": {
    "name": "ipython",
    "version": 3
   },
   "file_extension": ".py",
   "mimetype": "text/x-python",
   "name": "python",
   "nbconvert_exporter": "python",
   "pygments_lexer": "ipython3",
   "version": "3.12.0"
  }
 },
 "nbformat": 4,
 "nbformat_minor": 2
}
